{
 "cells": [
  {
   "cell_type": "markdown",
   "metadata": {},
   "source": [
    "## Final Project Part 2 - Exploratory Data Analysis"
   ]
  },
  {
   "cell_type": "code",
   "execution_count": 1,
   "metadata": {},
   "outputs": [],
   "source": [
    "import pandas as pd\n",
    "import numpy as np\n",
    "import seaborn as sns\n",
    "import matplotlib.pyplot as plt\n",
    "\n",
    "vgsales = pd.read_csv('vgsales.csv')\n",
    "vgsales.rename(columns = {'Rank': 'rank', 'Name': 'name', 'Platform': 'platform', 'Year': 'year', 'Genre': 'genre', 'Publisher': 'publisher', 'NA_Sales': 'na_sales', 'EU_Sales': 'eu_sales', 'JP_Sales': 'jp_sales', 'Other_Sales': 'other_sales', 'Global_Sales': 'global_sales'}, inplace=True)"
   ]
  },
  {
   "cell_type": "markdown",
   "metadata": {},
   "source": [
    "Main goal of my project:\n",
    "* Look at the relationship between genre and sales for each sales category\n",
    "* Look at the relationship between platform and sales for each sales category"
   ]
  },
  {
   "cell_type": "code",
   "execution_count": 2,
   "metadata": {},
   "outputs": [
    {
     "data": {
      "text/plain": [
       "(16598, 11)"
      ]
     },
     "execution_count": 2,
     "metadata": {},
     "output_type": "execute_result"
    }
   ],
   "source": [
    "# First, I'll get the shape of my dataset.\n",
    "\n",
    "vgsales.shape"
   ]
  },
  {
   "cell_type": "code",
   "execution_count": 3,
   "metadata": {},
   "outputs": [
    {
     "data": {
      "text/plain": [
       "Action          3316\n",
       "Sports          2346\n",
       "Misc            1739\n",
       "Role-Playing    1488\n",
       "Shooter         1310\n",
       "Adventure       1286\n",
       "Racing          1249\n",
       "Platform         886\n",
       "Simulation       867\n",
       "Fighting         848\n",
       "Strategy         681\n",
       "Puzzle           582\n",
       "Name: genre, dtype: int64"
      ]
     },
     "execution_count": 3,
     "metadata": {},
     "output_type": "execute_result"
    }
   ],
   "source": [
    "# Next, I'll find out what platforms and genres we have in the dataset.\n",
    "\n",
    "vgsales.genre.value_counts()"
   ]
  },
  {
   "cell_type": "code",
   "execution_count": 4,
   "metadata": {
    "scrolled": false
   },
   "outputs": [
    {
     "data": {
      "text/plain": [
       "DS      2163\n",
       "PS2     2161\n",
       "PS3     1329\n",
       "Wii     1325\n",
       "X360    1265\n",
       "PSP     1213\n",
       "PS      1196\n",
       "PC       960\n",
       "XB       824\n",
       "GBA      822\n",
       "GC       556\n",
       "3DS      509\n",
       "PSV      413\n",
       "PS4      336\n",
       "N64      319\n",
       "SNES     239\n",
       "XOne     213\n",
       "SAT      173\n",
       "WiiU     143\n",
       "2600     133\n",
       "NES       98\n",
       "GB        98\n",
       "DC        52\n",
       "GEN       27\n",
       "NG        12\n",
       "WS         6\n",
       "SCD        6\n",
       "3DO        3\n",
       "TG16       2\n",
       "PCFX       1\n",
       "GG         1\n",
       "Name: platform, dtype: int64"
      ]
     },
     "execution_count": 4,
     "metadata": {},
     "output_type": "execute_result"
    }
   ],
   "source": [
    "vgsales.platform.value_counts()"
   ]
  },
  {
   "cell_type": "code",
   "execution_count": 18,
   "metadata": {},
   "outputs": [
    {
     "data": {
      "text/plain": [
       "count    16327.000000\n",
       "mean      2006.406443\n",
       "std          5.828981\n",
       "min       1980.000000\n",
       "25%       2003.000000\n",
       "50%       2007.000000\n",
       "75%       2010.000000\n",
       "max       2020.000000\n",
       "Name: year, dtype: float64"
      ]
     },
     "execution_count": 18,
     "metadata": {},
     "output_type": "execute_result"
    }
   ],
   "source": [
    "# Finally, I want to find out the range of years, and how many rows per year, for this dataset.\n",
    "\n",
    "vgsales.loc[:, 'year'].describe()"
   ]
  },
  {
   "cell_type": "code",
   "execution_count": 19,
   "metadata": {},
   "outputs": [
    {
     "data": {
      "text/plain": [
       "2009.0    1431\n",
       "2008.0    1428\n",
       "2010.0    1259\n",
       "2007.0    1202\n",
       "2011.0    1139\n",
       "2006.0    1008\n",
       "2005.0     941\n",
       "2002.0     829\n",
       "2003.0     775\n",
       "2004.0     763\n",
       "2012.0     657\n",
       "2015.0     614\n",
       "2014.0     582\n",
       "2013.0     546\n",
       "2001.0     482\n",
       "1998.0     379\n",
       "2000.0     349\n",
       "2016.0     344\n",
       "1999.0     338\n",
       "1997.0     289\n",
       "1996.0     263\n",
       "1995.0     219\n",
       "1994.0     121\n",
       "1993.0      60\n",
       "1981.0      46\n",
       "1992.0      43\n",
       "1991.0      41\n",
       "1982.0      36\n",
       "1986.0      21\n",
       "1989.0      17\n",
       "1983.0      17\n",
       "1990.0      16\n",
       "1987.0      16\n",
       "1988.0      15\n",
       "1985.0      14\n",
       "1984.0      14\n",
       "1980.0       9\n",
       "2017.0       3\n",
       "2020.0       1\n",
       "Name: year, dtype: int64"
      ]
     },
     "execution_count": 19,
     "metadata": {},
     "output_type": "execute_result"
    }
   ],
   "source": [
    "vgsales.loc[:, 'year'].value_counts()"
   ]
  },
  {
   "cell_type": "code",
   "execution_count": 21,
   "metadata": {},
   "outputs": [],
   "source": [
    "# Since we have relatively less (and arguably less relevant) data on games earlier than 2000, I want to drop those rows.\n",
    "# I also want to drop the rows that are later than 2016, when this data was collected.\n",
    "\n",
    "vgsales.drop(vgsales[vgsales.year < 2000].index, inplace=True)\n",
    "vgsales.drop(vgsales[vgsales.year > 2016].index, inplace=True)"
   ]
  },
  {
   "cell_type": "code",
   "execution_count": 22,
   "metadata": {},
   "outputs": [],
   "source": [
    "# I now want to eliminate all platforms which have less than 30 games in the dataframe (small sample size).\n",
    "\n",
    "vgsales.drop(vgsales[vgsales.platform == 'WS'].index, inplace=True)\n",
    "vgsales.drop(vgsales[vgsales.platform == '2600'].index, inplace=True)\n",
    "vgsales.drop(vgsales[vgsales.platform == 'GB'].index, inplace=True)"
   ]
  },
  {
   "cell_type": "code",
   "execution_count": 23,
   "metadata": {},
   "outputs": [],
   "source": [
    "# Here I'm going to map the genres to a number so I can more easily look at relationships.\n",
    "\n",
    "vgsales.loc[:, 'genre_num'] = vgsales.loc[:, 'genre'].map({'Action': 1, 'Sports': 2, 'Misc': 3, 'Role-Playing': 4, 'Adventure': 5,\n",
    "                                                          'Shooter': 6, 'Racing': 7, 'Simulation': 8, 'Platform': 9,\n",
    "                                                          'Fighting': 10, 'Strategy': 11, 'Puzzle': 12})"
   ]
  },
  {
   "cell_type": "markdown",
   "metadata": {},
   "source": [
    "Here I'm going to map the platforms to numbers so I can more easily look at relationships. I'm going to group similar platforms into one category because I feel that I can better capture the relationship that way. For example, I'm grouping all handheld platforms together because I want a broader look at the popularity/sales of games on handheld platforms, not just the popularity/sales of games on, for example, the PSP or DS specifically. If I want to be able to generalize my findings, I need to be able to tell game makers that they should do \"whatever\" for handheld platforms as a whole."
   ]
  },
  {
   "cell_type": "code",
   "execution_count": 27,
   "metadata": {},
   "outputs": [],
   "source": [
    "# 1 = Handheld\n",
    "# 2 = PlayStation Console\n",
    "# 3 = XBox Console\n",
    "# 4 = Wii\n",
    "# 5 = PC\n",
    "# 6 = Other (Extinct) Console\n",
    "\n",
    "vgsales.loc[:, 'platform_num'] = vgsales.loc[:, 'platform'].map({'DS': 1, 'PS2': 2, 'PS3': 2, 'Wii': 4, 'X360': 3, 'PSP': 1, \n",
    "                                                                'PC': 5, 'XB': 3, 'GBA': 1, 'GC': 6, '3DS': 1, 'PSV': 1, \n",
    "                                                                'PS4': 2, 'PS': 2, 'XOne': 3, 'WiiU': 4, 'N64': 6, 'DC': 6})"
   ]
  },
  {
   "cell_type": "code",
   "execution_count": 28,
   "metadata": {
    "scrolled": true
   },
   "outputs": [
    {
     "data": {
      "text/plain": [
       "1    5116\n",
       "2    4105\n",
       "3    2302\n",
       "4    1468\n",
       "5     920\n",
       "6     660\n",
       "Name: platform_num, dtype: int64"
      ]
     },
     "execution_count": 28,
     "metadata": {},
     "output_type": "execute_result"
    }
   ],
   "source": [
    "# After cleaning up my data, I want to take a look at our platform and genre counts now.\n",
    "\n",
    "vgsales.platform_num.value_counts()"
   ]
  },
  {
   "cell_type": "code",
   "execution_count": 29,
   "metadata": {},
   "outputs": [
    {
     "data": {
      "text/plain": [
       "Action          3078\n",
       "Sports          2014\n",
       "Misc            1614\n",
       "Role-Playing    1293\n",
       "Adventure       1184\n",
       "Shooter         1141\n",
       "Racing          1056\n",
       "Simulation       777\n",
       "Platform         722\n",
       "Fighting         650\n",
       "Strategy         554\n",
       "Puzzle           488\n",
       "Name: genre, dtype: int64"
      ]
     },
     "execution_count": 29,
     "metadata": {},
     "output_type": "execute_result"
    }
   ],
   "source": [
    "vgsales.genre.value_counts()"
   ]
  },
  {
   "cell_type": "code",
   "execution_count": 30,
   "metadata": {},
   "outputs": [
    {
     "data": {
      "image/png": "[encoded data removed]",
      "text/plain": [
       "<Figure size 720x720 with 2 Axes>"
      ]
     },
     "metadata": {},
     "output_type": "display_data"
    }
   ],
   "source": [
    "# Now I want to make a heatmap of correlations between the variables to see what I can find out.\n",
    "\n",
    "fig, ax = plt.subplots(figsize=(10, 10))\n",
    "ax = sns.heatmap(vgsales.corr(), cmap=sns.diverging_palette(240, 10, n=30), vmin=-1, vmax=1, ax=ax)"
   ]
  },
  {
   "cell_type": "markdown",
   "metadata": {},
   "source": [
    "From the above heatmap, I see no strong correlations between platform, genre, and sales."
   ]
  },
  {
   "cell_type": "code",
   "execution_count": 31,
   "metadata": {},
   "outputs": [
    {
     "data": {
      "text/html": [
       "<div>\n",
       "<style scoped>\n",
       "    .dataframe tbody tr th:only-of-type {\n",
       "        vertical-align: middle;\n",
       "    }\n",
       "\n",
       "    .dataframe tbody tr th {\n",
       "        vertical-align: top;\n",
       "    }\n",
       "\n",
       "    .dataframe thead th {\n",
       "        text-align: right;\n",
       "    }\n",
       "</style>\n",
       "<table border=\"1\" class=\"dataframe\">\n",
       "  <thead>\n",
       "    <tr style=\"text-align: right;\">\n",
       "      <th></th>\n",
       "      <th>na_sales</th>\n",
       "      <th>eu_sales</th>\n",
       "      <th>jp_sales</th>\n",
       "      <th>global_sales</th>\n",
       "    </tr>\n",
       "    <tr>\n",
       "      <th>genre</th>\n",
       "      <th></th>\n",
       "      <th></th>\n",
       "      <th></th>\n",
       "      <th></th>\n",
       "    </tr>\n",
       "  </thead>\n",
       "  <tbody>\n",
       "    <tr>\n",
       "      <th>Shooter</th>\n",
       "      <td>0.429211</td>\n",
       "      <td>0.256415</td>\n",
       "      <td>0.020053</td>\n",
       "      <td>0.793269</td>\n",
       "    </tr>\n",
       "    <tr>\n",
       "      <th>Platform</th>\n",
       "      <td>0.356413</td>\n",
       "      <td>0.194875</td>\n",
       "      <td>0.075166</td>\n",
       "      <td>0.684695</td>\n",
       "    </tr>\n",
       "    <tr>\n",
       "      <th>Sports</th>\n",
       "      <td>0.297676</td>\n",
       "      <td>0.171053</td>\n",
       "      <td>0.037547</td>\n",
       "      <td>0.570338</td>\n",
       "    </tr>\n",
       "    <tr>\n",
       "      <th>Role-Playing</th>\n",
       "      <td>0.214223</td>\n",
       "      <td>0.119064</td>\n",
       "      <td>0.179722</td>\n",
       "      <td>0.552390</td>\n",
       "    </tr>\n",
       "    <tr>\n",
       "      <th>Racing</th>\n",
       "      <td>0.259763</td>\n",
       "      <td>0.185502</td>\n",
       "      <td>0.026326</td>\n",
       "      <td>0.538778</td>\n",
       "    </tr>\n",
       "    <tr>\n",
       "      <th>Action</th>\n",
       "      <td>0.247664</td>\n",
       "      <td>0.155708</td>\n",
       "      <td>0.042706</td>\n",
       "      <td>0.504883</td>\n",
       "    </tr>\n",
       "    <tr>\n",
       "      <th>Fighting</th>\n",
       "      <td>0.251415</td>\n",
       "      <td>0.118154</td>\n",
       "      <td>0.069169</td>\n",
       "      <td>0.488846</td>\n",
       "    </tr>\n",
       "    <tr>\n",
       "      <th>Misc</th>\n",
       "      <td>0.232931</td>\n",
       "      <td>0.125211</td>\n",
       "      <td>0.052875</td>\n",
       "      <td>0.456716</td>\n",
       "    </tr>\n",
       "    <tr>\n",
       "      <th>Simulation</th>\n",
       "      <td>0.212111</td>\n",
       "      <td>0.134788</td>\n",
       "      <td>0.051763</td>\n",
       "      <td>0.436744</td>\n",
       "    </tr>\n",
       "    <tr>\n",
       "      <th>Puzzle</th>\n",
       "      <td>0.134324</td>\n",
       "      <td>0.083033</td>\n",
       "      <td>0.049303</td>\n",
       "      <td>0.288873</td>\n",
       "    </tr>\n",
       "    <tr>\n",
       "      <th>Strategy</th>\n",
       "      <td>0.084892</td>\n",
       "      <td>0.059747</td>\n",
       "      <td>0.047978</td>\n",
       "      <td>0.210108</td>\n",
       "    </tr>\n",
       "    <tr>\n",
       "      <th>Adventure</th>\n",
       "      <td>0.071233</td>\n",
       "      <td>0.042086</td>\n",
       "      <td>0.030929</td>\n",
       "      <td>0.157221</td>\n",
       "    </tr>\n",
       "  </tbody>\n",
       "</table>\n",
       "</div>"
      ],
      "text/plain": [
       "              na_sales  eu_sales  jp_sales  global_sales\n",
       "genre                                                   \n",
       "Shooter       0.429211  0.256415  0.020053      0.793269\n",
       "Platform      0.356413  0.194875  0.075166      0.684695\n",
       "Sports        0.297676  0.171053  0.037547      0.570338\n",
       "Role-Playing  0.214223  0.119064  0.179722      0.552390\n",
       "Racing        0.259763  0.185502  0.026326      0.538778\n",
       "Action        0.247664  0.155708  0.042706      0.504883\n",
       "Fighting      0.251415  0.118154  0.069169      0.488846\n",
       "Misc          0.232931  0.125211  0.052875      0.456716\n",
       "Simulation    0.212111  0.134788  0.051763      0.436744\n",
       "Puzzle        0.134324  0.083033  0.049303      0.288873\n",
       "Strategy      0.084892  0.059747  0.047978      0.210108\n",
       "Adventure     0.071233  0.042086  0.030929      0.157221"
      ]
     },
     "execution_count": 31,
     "metadata": {},
     "output_type": "execute_result"
    }
   ],
   "source": [
    "# Now I want to find out the mean sales for the genres and platforms.\n",
    "\n",
    "vgsales.groupby('genre')['na_sales', 'eu_sales', 'jp_sales', 'global_sales'].mean().sort_values('global_sales', ascending=False)"
   ]
  },
  {
   "cell_type": "markdown",
   "metadata": {},
   "source": [
    "Here I can see something pretty interesting. Globally, shooter games are the most popular genre. This is true for North America and Europe as well. However, in Japan, shooter games are actually the least popular, while the most popular genre is role-playing games.\n",
    "\n",
    "From this cursory look at the data, I can draw a few tentative conclusions. Role-playing games are the 5th-least popular in North America and Europe. Consequently, it might be a good idea for makers of role-playing games to focus their marketing efforts in Japan. Meanwhile, makers of shooter games should not focus their marketing in Japan, but should focus on North America and Europe."
   ]
  },
  {
   "cell_type": "code",
   "execution_count": 32,
   "metadata": {},
   "outputs": [
    {
     "data": {
      "text/html": [
       "<div>\n",
       "<style scoped>\n",
       "    .dataframe tbody tr th:only-of-type {\n",
       "        vertical-align: middle;\n",
       "    }\n",
       "\n",
       "    .dataframe tbody tr th {\n",
       "        vertical-align: top;\n",
       "    }\n",
       "\n",
       "    .dataframe thead th {\n",
       "        text-align: right;\n",
       "    }\n",
       "</style>\n",
       "<table border=\"1\" class=\"dataframe\">\n",
       "  <thead>\n",
       "    <tr style=\"text-align: right;\">\n",
       "      <th></th>\n",
       "      <th>na_sales</th>\n",
       "      <th>eu_sales</th>\n",
       "      <th>jp_sales</th>\n",
       "      <th>global_sales</th>\n",
       "    </tr>\n",
       "    <tr>\n",
       "      <th>platform_num</th>\n",
       "      <th></th>\n",
       "      <th></th>\n",
       "      <th></th>\n",
       "      <th></th>\n",
       "    </tr>\n",
       "  </thead>\n",
       "  <tbody>\n",
       "    <tr>\n",
       "      <th>4</th>\n",
       "      <td>0.371955</td>\n",
       "      <td>0.199326</td>\n",
       "      <td>0.055954</td>\n",
       "      <td>0.687037</td>\n",
       "    </tr>\n",
       "    <tr>\n",
       "      <th>2</th>\n",
       "      <td>0.277808</td>\n",
       "      <td>0.208246</td>\n",
       "      <td>0.061778</td>\n",
       "      <td>0.641988</td>\n",
       "    </tr>\n",
       "    <tr>\n",
       "      <th>3</th>\n",
       "      <td>0.378336</td>\n",
       "      <td>0.168193</td>\n",
       "      <td>0.006147</td>\n",
       "      <td>0.599166</td>\n",
       "    </tr>\n",
       "    <tr>\n",
       "      <th>6</th>\n",
       "      <td>0.239364</td>\n",
       "      <td>0.069182</td>\n",
       "      <td>0.051894</td>\n",
       "      <td>0.370894</td>\n",
       "    </tr>\n",
       "    <tr>\n",
       "      <th>1</th>\n",
       "      <td>0.152862</td>\n",
       "      <td>0.080727</td>\n",
       "      <td>0.081697</td>\n",
       "      <td>0.341347</td>\n",
       "    </tr>\n",
       "    <tr>\n",
       "      <th>5</th>\n",
       "      <td>0.069467</td>\n",
       "      <td>0.131141</td>\n",
       "      <td>0.000087</td>\n",
       "      <td>0.226935</td>\n",
       "    </tr>\n",
       "  </tbody>\n",
       "</table>\n",
       "</div>"
      ],
      "text/plain": [
       "              na_sales  eu_sales  jp_sales  global_sales\n",
       "platform_num                                            \n",
       "4             0.371955  0.199326  0.055954      0.687037\n",
       "2             0.277808  0.208246  0.061778      0.641988\n",
       "3             0.378336  0.168193  0.006147      0.599166\n",
       "6             0.239364  0.069182  0.051894      0.370894\n",
       "1             0.152862  0.080727  0.081697      0.341347\n",
       "5             0.069467  0.131141  0.000087      0.226935"
      ]
     },
     "execution_count": 32,
     "metadata": {},
     "output_type": "execute_result"
    }
   ],
   "source": [
    "vgsales.groupby('platform_num')['na_sales', 'eu_sales', 'jp_sales', 'global_sales'].mean().sort_values('global_sales', ascending=False)"
   ]
  },
  {
   "cell_type": "markdown",
   "metadata": {},
   "source": [
    "Just as a reminder, here is the platform_num legend:\n",
    "\n",
    "* 1 = Handheld\n",
    "* 2 = PlayStation Console\n",
    "* 3 = XBox Console\n",
    "* 4 = Wii\n",
    "* 5 = PC\n",
    "* 6 = Other (Extinct) Console\n",
    "\n",
    "As we can see, Wii, Playstation, and XBox are the most popular platforms globally by a rather large margin. This does not come as a surprise to me, as someone who plays video games. What does surprise me, however, is that the global sales of the extinct consoles are larger than handheld and PC sales (for reference, these extinct consoles are the Nintendo N64, Nintendo GameCube, and Sega DreamCast). Even though these consoles are now extinct, we can still draw some conclusions from them, because they are \"put a disc in, sit in front of the TV with a controller\" consoles, as opposed to handheld or PC games. It also may be relevant that two of the three extinct consoles are made by Nintendo. Perhaps I will have to explore that connection more.\n",
    "\n",
    "Now let's look at the market breakdown. In North America, platform sales closely match the global sales in terms of order of popularity. Xbox is the most popular, with Wii trailing closely behind, then PlayStation. Europe is similar; however, PC games are more popular than handheld and extinct consoles, and handheld is more popular than the extinct consoles.\n",
    "\n",
    "Japan's breakdown is quite different from the others. PC games are the least popular by a much greater margin, and XBox is actually the second-least popular by a pretty big amount as well. Handheld games are the most popular in Japan, then PlayStation. Wii and the extinct consoles are in the middle. These sales may be explained by the fact that Sony (the makers of PlayStation) and Nintendo are both Japanese companies, so it would make sense that Japanese platforms are more popular in Japan."
   ]
  },
  {
   "cell_type": "markdown",
   "metadata": {},
   "source": [
    "### Conclusion\n",
    "\n",
    "Overall, this first look at my data has led me to some interesting findings. I was able to get a good idea of sales globally, and in each market, for every genre and platform category. I am excited to build some models and see what kind of new predictions I can make from this data."
   ]
  }
 ],
 "metadata": {
  "kernelspec": {
   "display_name": "Python 3",
   "language": "python",
   "name": "python3"
  },
  "language_info": {
   "codemirror_mode": {
    "name": "ipython",
    "version": 3
   },
   "file_extension": ".py",
   "mimetype": "text/x-python",
   "name": "python",
   "nbconvert_exporter": "python",
   "pygments_lexer": "ipython3",
   "version": "3.6.5"
  }
 },
 "nbformat": 4,
 "nbformat_minor": 2
}
